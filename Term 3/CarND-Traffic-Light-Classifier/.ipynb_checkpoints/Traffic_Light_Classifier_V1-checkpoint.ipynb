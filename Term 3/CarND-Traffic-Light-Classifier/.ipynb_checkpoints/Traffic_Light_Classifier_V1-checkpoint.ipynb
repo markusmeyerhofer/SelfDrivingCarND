{
 "cells": [
  {
   "cell_type": "markdown",
   "metadata": {},
   "source": [
    "# Self-Driving Car Engineer Nanodegree\n",
    "\n",
    "## Deep Learning\n",
    "\n",
    "## Project: Build a Traffic Light Classifier\n"
   ]
  },
  {
   "cell_type": "markdown",
   "metadata": {},
   "source": [
    "---\n",
    "## Step 0: Load The Data"
   ]
  },
  {
   "cell_type": "code",
   "execution_count": 1,
   "metadata": {
    "collapsed": true
   },
   "outputs": [],
   "source": [
    "import matplotlib.image as mpimg\n",
    "import os, cv2\n",
    "import numpy as np\n",
    "import random as rnd"
   ]
  },
  {
   "cell_type": "code",
   "execution_count": 2,
   "metadata": {
    "collapsed": true
   },
   "outputs": [],
   "source": [
    "class Classifier:\n",
    "    def __init__(self):\n",
    "        self.green_images = []\n",
    "        self.yellow_images = []\n",
    "        self.red_images = []\n",
    "        self.unknown_images = []\n",
    "        self.X_train = np.ndarray(shape=(0, 300, 200, 3))\n",
    "        self.Y_train = np.ndarray(shape=(0))\n",
    "\n",
    "    # scale images depending on extension/image type\n",
    "    def load_image(self, image_path):\n",
    "        \n",
    "        try:\n",
    "            image = cv2.imread(image_path)\n",
    "        except (Exception):\n",
    "            print(\"unknown cv2 exception\")\n",
    "            return\n",
    "            \n",
    "        # scale image (0-255)\n",
    "        if image_path[-4:] == '.png':\n",
    "            image = image.astype(np.float32)*255\n",
    "      \n",
    "        # remove alpha channel if present\n",
    "        if image.shape[2] == 4:\n",
    "            b, g, r, a = cv2.split(image)\n",
    "            image = np.dstack((r,g,b))\n",
    "    \n",
    "        return image\n",
    "\n",
    "    def set_image_paths(self, green_file_path, yellow_file_path, red_file_path, unknown_file_path):\n",
    "        \n",
    "        # add images\n",
    "        images = []\n",
    "        labels = []\n",
    "        green_images=os.listdir(green_file_path) \n",
    "        for green_image_path in green_images:\n",
    "            if type(green_image_path)==type(\"string\"):\n",
    "                image = self.load_image(green_file_path + green_image_path)\n",
    "                self.green_images.append(image)\n",
    "                images.append(image)\n",
    "                labels.append('G')\n",
    "                #print(image.shape)\n",
    "    \n",
    "        yellow_images=os.listdir(yellow_file_path) \n",
    "        for yellow_image_path in yellow_images:\n",
    "            if type(yellow_image_path)==type(\"string\"):\n",
    "                image = self.load_image(yellow_file_path + yellow_image_path)\n",
    "                self.yellow_images.append(image)\n",
    "                images.append(image)\n",
    "                labels.append('Y')\n",
    "                            \n",
    "        red_images=os.listdir(red_file_path) \n",
    "        for red_image_path in red_images:\n",
    "            if type(red_image_path)==type(\"string\"):\n",
    "                image = self.load_image(red_file_path + red_image_path)\n",
    "                self.red_images.append(image)\n",
    "                images.append(image)\n",
    "                labels.append('R')\n",
    "    \n",
    "        unknown_images=os.listdir(unknown_file_path) \n",
    "        for unknown_image_path in unknown_images:\n",
    "            if type(unknown_image_path)==type(\"string\"):\n",
    "                image = self.load_image(unknown_file_path + unknown_image_path)\n",
    "                self.unknown_images.append(image)\n",
    "                images.append(image)\n",
    "                labels.append('U')\n",
    "        \n",
    "        self.X_train = np.array(images)\n",
    "        self.Y_train = np.array(labels)\n"
   ]
  },
  {
   "cell_type": "code",
   "execution_count": 13,
   "metadata": {},
   "outputs": [
    {
     "name": "stdout",
     "output_type": "stream",
     "text": [
      "Green   :  39\n",
      "Yellow  :  4\n",
      "Red     :  90\n",
      "Unknown :  14\n",
      "X_train :  (147, 300, 200, 3)\n",
      "Y_train :  (147,)\n",
      "Classes :  4\n"
     ]
    }
   ],
   "source": [
    "classifier = Classifier()\n",
    "             \n",
    "classifier.set_image_paths('./pics/GREEN/', \n",
    "                './pics/YELLOW/', \n",
    "                './pics/RED/', \n",
    "                './pics/UNKNOWN/')\n",
    "\n",
    "print(\"Green   : \", len(classifier.green_images))\n",
    "print(\"Yellow  : \", len(classifier.yellow_images))\n",
    "print(\"Red     : \", len(classifier.red_images))\n",
    "print(\"Unknown : \", len(classifier.unknown_images))\n",
    "print(\"X_train : \", classifier.X_train.shape)\n",
    "print(\"Y_train : \", classifier.Y_train.shape)\n",
    "n_classes = len(set(classifier.Y_train))\n",
    "print(\"Classes : \", n_classes)"
   ]
  },
  {
   "cell_type": "code",
   "execution_count": 4,
   "metadata": {},
   "outputs": [
    {
     "name": "stdout",
     "output_type": "stream",
     "text": [
      "Sample Images\n"
     ]
    },
    {
     "data": {
      "image/png": "[encoded data removed]",
      "text/plain": [
       "<matplotlib.figure.Figure at 0x7fa362166cf8>"
      ]
     },
     "metadata": {},
     "output_type": "display_data"
    }
   ],
   "source": [
    "import matplotlib.pyplot as plt\n",
    "# Visualizations will be shown in the notebook.\n",
    "%matplotlib inline\n",
    "\n",
    "import random\n",
    "print('Sample Images')\n",
    "\n",
    "for i in range(9):\n",
    "    plt.subplot(3,3,i+1)\n",
    "    plt.imshow(classifier.X_train[random.randint(0, len(classifier.X_train))])"
   ]
  },
  {
   "cell_type": "code",
   "execution_count": 24,
   "metadata": {},
   "outputs": [
    {
     "name": "stdout",
     "output_type": "stream",
     "text": [
      "X_train (147, 300, 200, 3)\n",
      "Mean ()\n",
      "Image:  Y\n"
     ]
    },
    {
     "data": {
      "image/png": "[encoded data removed]",
      "text/plain": [
       "<matplotlib.figure.Figure at 0x7fa3a458df28>"
      ]
     },
     "metadata": {},
     "output_type": "display_data"
    }
   ],
   "source": [
    "def plot_images(index):\n",
    "    plt.imshow(classifier.X_train[index])\n",
    "    print(\"Image: \", classifier.Y_train[index])\n",
    "    \n",
    "# zero center\n",
    "print(\"X_train\", classifier.X_train.shape)\n",
    "print(\"Mean\", classifier.X_train.mean().shape)\n",
    "X_train = (classifier.X_train - classifier.X_train.mean()) #/ (np.max(X_train) - np.min(X_train))\n",
    "#X_test = (X_test - X_test.mean())\n",
    "\n",
    "plot_images(42)"
   ]
  },
  {
   "cell_type": "code",
   "execution_count": 25,
   "metadata": {},
   "outputs": [],
   "source": [
    "# split new training set\n",
    "from sklearn.model_selection import train_test_split\n",
    "from sklearn.utils import shuffle\n",
    "X_train, Y_train = shuffle(classifier.X_train, classifier.Y_train)\n",
    "X_train, X_val, Y_train, Y_val = train_test_split(X_train, Y_train, test_size=0.1, random_state=0)"
   ]
  },
  {
   "cell_type": "code",
   "execution_count": 44,
   "metadata": {
    "collapsed": true
   },
   "outputs": [],
   "source": [
    "### Feel free to use as many code cells as needed.\n",
    "import tensorflow as tf\n",
    "from tensorflow.contrib.layers import flatten\n",
    "\n",
    "def LeNet(x):    \n",
    "    # Hyperparameters\n",
    "    mu = 0\n",
    "    sigma = 0.001\n",
    "    Padding='VALID'\n",
    "    W_lambda = 3.0\n",
    "    \n",
    "    print(\"Layer 1\")\n",
    "    # Layer 1: Convolutional. Input = 32x32x1. Output = 28x28x40.\n",
    "    conv1_W = tf.Variable(tf.truncated_normal(shape=(5, 5, 3, 40), mean = mu, stddev = sigma))\n",
    "    conv1_b = tf.Variable(tf.zeros(40))\n",
    "    conv1   = tf.nn.conv2d(x, conv1_W, strides=[1, 1, 1, 1], padding=Padding) + conv1_b\n",
    "    \n",
    "    print(\"L2 Regularization 1\")\n",
    "    # L2 Regularization\n",
    "    conv1_W = -W_lambda*conv1_W\n",
    "    \n",
    "    print(\"Relu 1\")\n",
    "    # Activation.\n",
    "    conv1 = tf.nn.relu(conv1)\n",
    "\n",
    "    print(\"Pooling 1\")\n",
    "    # Pooling. Input = 28x28x40. Output = 14x14x40.\n",
    "    conv1 = tf.nn.max_pool(conv1, ksize=[1, 2, 2, 1], strides=[1, 2, 2, 1], padding=Padding)\n",
    "    \n",
    "    print(\"Layer 2\")\n",
    "    # Layer 2: Convolutional. Output = 10x10x16.\n",
    "    conv2_W = tf.Variable(tf.truncated_normal(shape=(5, 5, 40, 16), mean = mu, stddev = sigma))\n",
    "    conv2_b = tf.Variable(tf.zeros(16))\n",
    "    conv2   = tf.nn.conv2d(conv1, conv2_W, strides=[1, 1, 1, 1], padding=Padding) + conv2_b\n",
    "    \n",
    "    print(\"L2 Regularization 2\")\n",
    "    # L2 regularization\n",
    "    conv2 = -W_lambda*conv2\n",
    "    \n",
    "    print(\"Relu 2\")\n",
    "    # Activation.\n",
    "    conv2 = tf.nn.relu(conv2)\n",
    "    \n",
    "    print(\"Pooling 2\")\n",
    "    # Pooling. Input = 10x10x16. Output = 5x5x16.\n",
    "    conv2 = tf.nn.max_pool(conv2, ksize=[1, 2, 2, 1], strides=[1, 2, 2, 1], padding=Padding)\n",
    "    \n",
    "    print(\"Flatten 1\")\n",
    "    # Flatten. Input = 5x5x16. Output = 400.\n",
    "    fc0   = flatten(conv2)\n",
    "    \n",
    "    print(\"Layer 3\")\n",
    "    # Layer 3: Fully Connected. Input = 1024(1024 for SAME vs 400 for VALID padding). Output = 120.\n",
    "    fc1_W = tf.Variable(tf.truncated_normal(shape=(400,120), mean = mu, stddev = sigma))\n",
    "    fc1_b = tf.Variable(tf.zeros(120))\n",
    "    print(\"matmul\")\n",
    "    \n",
    "    print(\"fc0\", fc0.shape)\n",
    "    print(\"fc1_W\", fc1_W.shape)\n",
    "    print(\"fc1_b\", fc1_b.shape)\n",
    "    fc1   = tf.matmul(fc0, fc1_W) + fc1_b\n",
    "    print(\"after matmul\")\n",
    "    \n",
    "    print(\"Relu 3\")\n",
    "    # Activation.\n",
    "    fc1    = tf.nn.relu(fc1)\n",
    "    \n",
    "    print(\"Layer 4\")\n",
    "    # Layer 4: Fully Connected. Input = 120. Output = 84.\n",
    "    fc2_W  = tf.Variable(tf.truncated_normal(shape=(120, 84), mean = mu, stddev = sigma))\n",
    "    fc2_b  = tf.Variable(tf.zeros(84))\n",
    "    fc2    = tf.matmul(fc1, fc2_W) + fc2_b\n",
    "    \n",
    "    print(\"Relu 4\")\n",
    "    # Activation.\n",
    "    fc2    = tf.nn.relu(fc2)\n",
    "    \n",
    "    print(\"Layer 5\")\n",
    "    # Layer 5: Fully Connected. Input = 84. Output = 43.\n",
    "    fc3_W  = tf.Variable(tf.truncated_normal(shape=(84, 4), mean = mu, stddev = sigma))\n",
    "    fc3_b  = tf.Variable(tf.zeros(43))\n",
    "    logits = tf.matmul(fc2, fc3_W) + fc3_b\n",
    "    \n",
    "    return logits\n",
    "    "
   ]
  },
  {
   "cell_type": "code",
   "execution_count": 45,
   "metadata": {},
   "outputs": [
    {
     "name": "stdout",
     "output_type": "stream",
     "text": [
      "Layer 1\n",
      "L2 Regularization 1\n",
      "Relu 1\n",
      "Pooling 1\n",
      "Layer 2\n",
      "L2 Regularization 2\n",
      "Relu 2\n",
      "Pooling 2\n",
      "Flatten 1\n",
      "Layer 3\n",
      "matmul\n",
      "fc0 (?, 54144)\n",
      "fc1_W (400, 120)\n",
      "fc1_b (120,)\n"
     ]
    },
    {
     "ename": "ValueError",
     "evalue": "Dimensions must be equal, but are 54144 and 400 for 'MatMul_16' (op: 'MatMul') with input shapes: [?,54144], [400,120].",
     "output_type": "error",
     "traceback": [
      "\u001b[0;31m---------------------------------------------------------------------------\u001b[0m",
      "\u001b[0;31mInvalidArgumentError\u001b[0m                      Traceback (most recent call last)",
      "\u001b[0;32m/usr/local/lib/python3.5/dist-packages/tensorflow/python/framework/common_shapes.py\u001b[0m in \u001b[0;36m_call_cpp_shape_fn_impl\u001b[0;34m(op, input_tensors_needed, input_tensors_as_shapes_needed, require_shape_fn)\u001b[0m\n\u001b[1;32m    653\u001b[0m           \u001b[0mgraph_def_version\u001b[0m\u001b[0;34m,\u001b[0m \u001b[0mnode_def_str\u001b[0m\u001b[0;34m,\u001b[0m \u001b[0minput_shapes\u001b[0m\u001b[0;34m,\u001b[0m \u001b[0minput_tensors\u001b[0m\u001b[0;34m,\u001b[0m\u001b[0;34m\u001b[0m\u001b[0m\n\u001b[0;32m--> 654\u001b[0;31m           input_tensors_as_shapes, status)\n\u001b[0m\u001b[1;32m    655\u001b[0m   \u001b[0;32mexcept\u001b[0m \u001b[0merrors\u001b[0m\u001b[0;34m.\u001b[0m\u001b[0mInvalidArgumentError\u001b[0m \u001b[0;32mas\u001b[0m \u001b[0merr\u001b[0m\u001b[0;34m:\u001b[0m\u001b[0;34m\u001b[0m\u001b[0m\n",
      "\u001b[0;32m/usr/lib/python3.5/contextlib.py\u001b[0m in \u001b[0;36m__exit__\u001b[0;34m(self, type, value, traceback)\u001b[0m\n\u001b[1;32m     65\u001b[0m             \u001b[0;32mtry\u001b[0m\u001b[0;34m:\u001b[0m\u001b[0;34m\u001b[0m\u001b[0m\n\u001b[0;32m---> 66\u001b[0;31m                 \u001b[0mnext\u001b[0m\u001b[0;34m(\u001b[0m\u001b[0mself\u001b[0m\u001b[0;34m.\u001b[0m\u001b[0mgen\u001b[0m\u001b[0;34m)\u001b[0m\u001b[0;34m\u001b[0m\u001b[0m\n\u001b[0m\u001b[1;32m     67\u001b[0m             \u001b[0;32mexcept\u001b[0m \u001b[0mStopIteration\u001b[0m\u001b[0;34m:\u001b[0m\u001b[0;34m\u001b[0m\u001b[0m\n",
      "\u001b[0;32m/usr/local/lib/python3.5/dist-packages/tensorflow/python/framework/errors_impl.py\u001b[0m in \u001b[0;36mraise_exception_on_not_ok_status\u001b[0;34m()\u001b[0m\n\u001b[1;32m    465\u001b[0m         \u001b[0mcompat\u001b[0m\u001b[0;34m.\u001b[0m\u001b[0mas_text\u001b[0m\u001b[0;34m(\u001b[0m\u001b[0mc_api\u001b[0m\u001b[0;34m.\u001b[0m\u001b[0mTF_Message\u001b[0m\u001b[0;34m(\u001b[0m\u001b[0mstatus\u001b[0m\u001b[0;34m)\u001b[0m\u001b[0;34m)\u001b[0m\u001b[0;34m,\u001b[0m\u001b[0;34m\u001b[0m\u001b[0m\n\u001b[0;32m--> 466\u001b[0;31m         c_api.TF_GetCode(status))\n\u001b[0m",
      "\u001b[0;31mInvalidArgumentError\u001b[0m: Dimensions must be equal, but are 54144 and 400 for 'MatMul_16' (op: 'MatMul') with input shapes: [?,54144], [400,120].",
      "\nDuring handling of the above exception, another exception occurred:\n",
      "\u001b[0;31mValueError\u001b[0m                                Traceback (most recent call last)",
      "\u001b[0;32m<ipython-input-45-2ae1f4df81a6>\u001b[0m in \u001b[0;36m<module>\u001b[0;34m()\u001b[0m\n\u001b[1;32m      6\u001b[0m \u001b[0mrate\u001b[0m \u001b[0;34m=\u001b[0m \u001b[0;36m0.0001\u001b[0m\u001b[0;34m\u001b[0m\u001b[0m\n\u001b[1;32m      7\u001b[0m \u001b[0;34m\u001b[0m\u001b[0m\n\u001b[0;32m----> 8\u001b[0;31m \u001b[0mlogits\u001b[0m \u001b[0;34m=\u001b[0m \u001b[0mLeNet\u001b[0m\u001b[0;34m(\u001b[0m\u001b[0mx\u001b[0m\u001b[0;34m)\u001b[0m\u001b[0;34m\u001b[0m\u001b[0m\n\u001b[0m\u001b[1;32m      9\u001b[0m \u001b[0;34m\u001b[0m\u001b[0m\n\u001b[1;32m     10\u001b[0m \u001b[0mcross_entropy\u001b[0m \u001b[0;34m=\u001b[0m \u001b[0mtf\u001b[0m\u001b[0;34m.\u001b[0m\u001b[0mnn\u001b[0m\u001b[0;34m.\u001b[0m\u001b[0msoftmax_cross_entropy_with_logits\u001b[0m\u001b[0;34m(\u001b[0m\u001b[0mlogits\u001b[0m\u001b[0;34m=\u001b[0m\u001b[0mlogits\u001b[0m\u001b[0;34m,\u001b[0m \u001b[0mlabels\u001b[0m\u001b[0;34m=\u001b[0m\u001b[0mone_hot_y\u001b[0m\u001b[0;34m)\u001b[0m\u001b[0;34m\u001b[0m\u001b[0m\n",
      "\u001b[0;32m<ipython-input-44-ba8bb9a23213>\u001b[0m in \u001b[0;36mLeNet\u001b[0;34m(x)\u001b[0m\n\u001b[1;32m     59\u001b[0m     \u001b[0mprint\u001b[0m\u001b[0;34m(\u001b[0m\u001b[0;34m\"fc1_W\"\u001b[0m\u001b[0;34m,\u001b[0m \u001b[0mfc1_W\u001b[0m\u001b[0;34m.\u001b[0m\u001b[0mshape\u001b[0m\u001b[0;34m)\u001b[0m\u001b[0;34m\u001b[0m\u001b[0m\n\u001b[1;32m     60\u001b[0m     \u001b[0mprint\u001b[0m\u001b[0;34m(\u001b[0m\u001b[0;34m\"fc1_b\"\u001b[0m\u001b[0;34m,\u001b[0m \u001b[0mfc1_b\u001b[0m\u001b[0;34m.\u001b[0m\u001b[0mshape\u001b[0m\u001b[0;34m)\u001b[0m\u001b[0;34m\u001b[0m\u001b[0m\n\u001b[0;32m---> 61\u001b[0;31m     \u001b[0mfc1\u001b[0m   \u001b[0;34m=\u001b[0m \u001b[0mtf\u001b[0m\u001b[0;34m.\u001b[0m\u001b[0mmatmul\u001b[0m\u001b[0;34m(\u001b[0m\u001b[0mfc0\u001b[0m\u001b[0;34m,\u001b[0m \u001b[0mfc1_W\u001b[0m\u001b[0;34m)\u001b[0m \u001b[0;34m+\u001b[0m \u001b[0mfc1_b\u001b[0m\u001b[0;34m\u001b[0m\u001b[0m\n\u001b[0m\u001b[1;32m     62\u001b[0m     \u001b[0mprint\u001b[0m\u001b[0;34m(\u001b[0m\u001b[0;34m\"after matmul\"\u001b[0m\u001b[0;34m)\u001b[0m\u001b[0;34m\u001b[0m\u001b[0m\n\u001b[1;32m     63\u001b[0m \u001b[0;34m\u001b[0m\u001b[0m\n",
      "\u001b[0;32m/usr/local/lib/python3.5/dist-packages/tensorflow/python/ops/math_ops.py\u001b[0m in \u001b[0;36mmatmul\u001b[0;34m(a, b, transpose_a, transpose_b, adjoint_a, adjoint_b, a_is_sparse, b_is_sparse, name)\u001b[0m\n\u001b[1;32m   1888\u001b[0m     \u001b[0;32melse\u001b[0m\u001b[0;34m:\u001b[0m\u001b[0;34m\u001b[0m\u001b[0m\n\u001b[1;32m   1889\u001b[0m       return gen_math_ops._mat_mul(\n\u001b[0;32m-> 1890\u001b[0;31m           a, b, transpose_a=transpose_a, transpose_b=transpose_b, name=name)\n\u001b[0m\u001b[1;32m   1891\u001b[0m \u001b[0;34m\u001b[0m\u001b[0m\n\u001b[1;32m   1892\u001b[0m \u001b[0;34m\u001b[0m\u001b[0m\n",
      "\u001b[0;32m/usr/local/lib/python3.5/dist-packages/tensorflow/python/ops/gen_math_ops.py\u001b[0m in \u001b[0;36m_mat_mul\u001b[0;34m(a, b, transpose_a, transpose_b, name)\u001b[0m\n\u001b[1;32m   2325\u001b[0m     _, _, _op = _op_def_lib._apply_op_helper(\n\u001b[1;32m   2326\u001b[0m         \u001b[0;34m\"MatMul\"\u001b[0m\u001b[0;34m,\u001b[0m \u001b[0ma\u001b[0m\u001b[0;34m=\u001b[0m\u001b[0ma\u001b[0m\u001b[0;34m,\u001b[0m \u001b[0mb\u001b[0m\u001b[0;34m=\u001b[0m\u001b[0mb\u001b[0m\u001b[0;34m,\u001b[0m \u001b[0mtranspose_a\u001b[0m\u001b[0;34m=\u001b[0m\u001b[0mtranspose_a\u001b[0m\u001b[0;34m,\u001b[0m \u001b[0mtranspose_b\u001b[0m\u001b[0;34m=\u001b[0m\u001b[0mtranspose_b\u001b[0m\u001b[0;34m,\u001b[0m\u001b[0;34m\u001b[0m\u001b[0m\n\u001b[0;32m-> 2327\u001b[0;31m         name=name)\n\u001b[0m\u001b[1;32m   2328\u001b[0m     \u001b[0m_result\u001b[0m \u001b[0;34m=\u001b[0m \u001b[0m_op\u001b[0m\u001b[0;34m.\u001b[0m\u001b[0moutputs\u001b[0m\u001b[0;34m[\u001b[0m\u001b[0;34m:\u001b[0m\u001b[0;34m]\u001b[0m\u001b[0;34m\u001b[0m\u001b[0m\n\u001b[1;32m   2329\u001b[0m     \u001b[0m_inputs_flat\u001b[0m \u001b[0;34m=\u001b[0m \u001b[0;34m[\u001b[0m\u001b[0ma\u001b[0m\u001b[0;34m,\u001b[0m \u001b[0mb\u001b[0m\u001b[0;34m]\u001b[0m\u001b[0;34m\u001b[0m\u001b[0m\n",
      "\u001b[0;32m/usr/local/lib/python3.5/dist-packages/tensorflow/python/framework/op_def_library.py\u001b[0m in \u001b[0;36m_apply_op_helper\u001b[0;34m(self, op_type_name, name, **keywords)\u001b[0m\n\u001b[1;32m    785\u001b[0m         op = g.create_op(op_type_name, inputs, output_types, name=scope,\n\u001b[1;32m    786\u001b[0m                          \u001b[0minput_types\u001b[0m\u001b[0;34m=\u001b[0m\u001b[0minput_types\u001b[0m\u001b[0;34m,\u001b[0m \u001b[0mattrs\u001b[0m\u001b[0;34m=\u001b[0m\u001b[0mattr_protos\u001b[0m\u001b[0;34m,\u001b[0m\u001b[0;34m\u001b[0m\u001b[0m\n\u001b[0;32m--> 787\u001b[0;31m                          op_def=op_def)\n\u001b[0m\u001b[1;32m    788\u001b[0m       \u001b[0;32mreturn\u001b[0m \u001b[0moutput_structure\u001b[0m\u001b[0;34m,\u001b[0m \u001b[0mop_def\u001b[0m\u001b[0;34m.\u001b[0m\u001b[0mis_stateful\u001b[0m\u001b[0;34m,\u001b[0m \u001b[0mop\u001b[0m\u001b[0;34m\u001b[0m\u001b[0m\n\u001b[1;32m    789\u001b[0m \u001b[0;34m\u001b[0m\u001b[0m\n",
      "\u001b[0;32m/usr/local/lib/python3.5/dist-packages/tensorflow/python/framework/ops.py\u001b[0m in \u001b[0;36mcreate_op\u001b[0;34m(self, op_type, inputs, dtypes, input_types, name, attrs, op_def, compute_shapes, compute_device)\u001b[0m\n\u001b[1;32m   3046\u001b[0m         op_def=op_def)\n\u001b[1;32m   3047\u001b[0m     \u001b[0;32mif\u001b[0m \u001b[0mcompute_shapes\u001b[0m\u001b[0;34m:\u001b[0m\u001b[0;34m\u001b[0m\u001b[0m\n\u001b[0;32m-> 3048\u001b[0;31m       \u001b[0mset_shapes_for_outputs\u001b[0m\u001b[0;34m(\u001b[0m\u001b[0mret\u001b[0m\u001b[0;34m)\u001b[0m\u001b[0;34m\u001b[0m\u001b[0m\n\u001b[0m\u001b[1;32m   3049\u001b[0m     \u001b[0mself\u001b[0m\u001b[0;34m.\u001b[0m\u001b[0m_add_op\u001b[0m\u001b[0;34m(\u001b[0m\u001b[0mret\u001b[0m\u001b[0;34m)\u001b[0m\u001b[0;34m\u001b[0m\u001b[0m\n\u001b[1;32m   3050\u001b[0m     \u001b[0mself\u001b[0m\u001b[0;34m.\u001b[0m\u001b[0m_record_op_seen_by_control_dependencies\u001b[0m\u001b[0;34m(\u001b[0m\u001b[0mret\u001b[0m\u001b[0;34m)\u001b[0m\u001b[0;34m\u001b[0m\u001b[0m\n",
      "\u001b[0;32m/usr/local/lib/python3.5/dist-packages/tensorflow/python/framework/ops.py\u001b[0m in \u001b[0;36mset_shapes_for_outputs\u001b[0;34m(op)\u001b[0m\n\u001b[1;32m   2321\u001b[0m       \u001b[0mshape_func\u001b[0m \u001b[0;34m=\u001b[0m \u001b[0m_call_cpp_shape_fn_and_require_op\u001b[0m\u001b[0;34m\u001b[0m\u001b[0m\n\u001b[1;32m   2322\u001b[0m \u001b[0;34m\u001b[0m\u001b[0m\n\u001b[0;32m-> 2323\u001b[0;31m   \u001b[0mshapes\u001b[0m \u001b[0;34m=\u001b[0m \u001b[0mshape_func\u001b[0m\u001b[0;34m(\u001b[0m\u001b[0mop\u001b[0m\u001b[0;34m)\u001b[0m\u001b[0;34m\u001b[0m\u001b[0m\n\u001b[0m\u001b[1;32m   2324\u001b[0m   \u001b[0;32mif\u001b[0m \u001b[0mshapes\u001b[0m \u001b[0;32mis\u001b[0m \u001b[0;32mNone\u001b[0m\u001b[0;34m:\u001b[0m\u001b[0;34m\u001b[0m\u001b[0m\n\u001b[1;32m   2325\u001b[0m     raise RuntimeError(\n",
      "\u001b[0;32m/usr/local/lib/python3.5/dist-packages/tensorflow/python/framework/ops.py\u001b[0m in \u001b[0;36mcall_with_requiring\u001b[0;34m(op)\u001b[0m\n\u001b[1;32m   2271\u001b[0m \u001b[0;34m\u001b[0m\u001b[0m\n\u001b[1;32m   2272\u001b[0m   \u001b[0;32mdef\u001b[0m \u001b[0mcall_with_requiring\u001b[0m\u001b[0;34m(\u001b[0m\u001b[0mop\u001b[0m\u001b[0;34m)\u001b[0m\u001b[0;34m:\u001b[0m\u001b[0;34m\u001b[0m\u001b[0m\n\u001b[0;32m-> 2273\u001b[0;31m     \u001b[0;32mreturn\u001b[0m \u001b[0mcall_cpp_shape_fn\u001b[0m\u001b[0;34m(\u001b[0m\u001b[0mop\u001b[0m\u001b[0;34m,\u001b[0m \u001b[0mrequire_shape_fn\u001b[0m\u001b[0;34m=\u001b[0m\u001b[0;32mTrue\u001b[0m\u001b[0;34m)\u001b[0m\u001b[0;34m\u001b[0m\u001b[0m\n\u001b[0m\u001b[1;32m   2274\u001b[0m \u001b[0;34m\u001b[0m\u001b[0m\n\u001b[1;32m   2275\u001b[0m   \u001b[0m_call_cpp_shape_fn_and_require_op\u001b[0m \u001b[0;34m=\u001b[0m \u001b[0mcall_with_requiring\u001b[0m\u001b[0;34m\u001b[0m\u001b[0m\n",
      "\u001b[0;32m/usr/local/lib/python3.5/dist-packages/tensorflow/python/framework/common_shapes.py\u001b[0m in \u001b[0;36mcall_cpp_shape_fn\u001b[0;34m(op, require_shape_fn)\u001b[0m\n\u001b[1;32m    593\u001b[0m     res = _call_cpp_shape_fn_impl(op, input_tensors_needed,\n\u001b[1;32m    594\u001b[0m                                   \u001b[0minput_tensors_as_shapes_needed\u001b[0m\u001b[0;34m,\u001b[0m\u001b[0;34m\u001b[0m\u001b[0m\n\u001b[0;32m--> 595\u001b[0;31m                                   require_shape_fn)\n\u001b[0m\u001b[1;32m    596\u001b[0m     \u001b[0;32mif\u001b[0m \u001b[0;32mnot\u001b[0m \u001b[0misinstance\u001b[0m\u001b[0;34m(\u001b[0m\u001b[0mres\u001b[0m\u001b[0;34m,\u001b[0m \u001b[0mdict\u001b[0m\u001b[0;34m)\u001b[0m\u001b[0;34m:\u001b[0m\u001b[0;34m\u001b[0m\u001b[0m\n\u001b[1;32m    597\u001b[0m       \u001b[0;31m# Handles the case where _call_cpp_shape_fn_impl calls unknown_shape(op).\u001b[0m\u001b[0;34m\u001b[0m\u001b[0;34m\u001b[0m\u001b[0m\n",
      "\u001b[0;32m/usr/local/lib/python3.5/dist-packages/tensorflow/python/framework/common_shapes.py\u001b[0m in \u001b[0;36m_call_cpp_shape_fn_impl\u001b[0;34m(op, input_tensors_needed, input_tensors_as_shapes_needed, require_shape_fn)\u001b[0m\n\u001b[1;32m    657\u001b[0m       \u001b[0mmissing_shape_fn\u001b[0m \u001b[0;34m=\u001b[0m \u001b[0;32mTrue\u001b[0m\u001b[0;34m\u001b[0m\u001b[0m\n\u001b[1;32m    658\u001b[0m     \u001b[0;32melse\u001b[0m\u001b[0;34m:\u001b[0m\u001b[0;34m\u001b[0m\u001b[0m\n\u001b[0;32m--> 659\u001b[0;31m       \u001b[0;32mraise\u001b[0m \u001b[0mValueError\u001b[0m\u001b[0;34m(\u001b[0m\u001b[0merr\u001b[0m\u001b[0;34m.\u001b[0m\u001b[0mmessage\u001b[0m\u001b[0;34m)\u001b[0m\u001b[0;34m\u001b[0m\u001b[0m\n\u001b[0m\u001b[1;32m    660\u001b[0m \u001b[0;34m\u001b[0m\u001b[0m\n\u001b[1;32m    661\u001b[0m   \u001b[0;32mif\u001b[0m \u001b[0mmissing_shape_fn\u001b[0m\u001b[0;34m:\u001b[0m\u001b[0;34m\u001b[0m\u001b[0m\n",
      "\u001b[0;31mValueError\u001b[0m: Dimensions must be equal, but are 54144 and 400 for 'MatMul_16' (op: 'MatMul') with input shapes: [?,54144], [400,120]."
     ]
    }
   ],
   "source": [
    "### Train model\n",
    "x = tf.placeholder(tf.float32, (None, 300, 200, 3))\n",
    "y = tf.placeholder(tf.int32, (None))\n",
    "one_hot_y = tf.one_hot(y, 4)\n",
    "\n",
    "rate = 0.0001\n",
    "\n",
    "logits = LeNet(x)\n",
    "\n",
    "cross_entropy = tf.nn.softmax_cross_entropy_with_logits(logits=logits, labels=one_hot_y)\n",
    "loss_operation = tf.reduce_mean(cross_entropy)\n",
    "optimizer = tf.train.AdamOptimizer(learning_rate = rate)\n",
    "training_operation = optimizer.minimize(loss_operation)\n",
    "\n",
    "correct_prediction = tf.equal(tf.argmax(logits, 1), tf.argmax(one_hot_y, 1))\n",
    "accuracy_operation = tf.reduce_mean(tf.cast(correct_prediction, tf.float32))\n",
    "saver = tf.train.Saver()   \n",
    "\n",
    "EPOCHS = 200\n",
    "BATCH_SIZE = 50\n",
    "\n",
    "def evaluate(X_data, Y_data):\n",
    "    num_examples = len(X_data)\n",
    "    total_accuracy = 0\n",
    "    sess = tf.get_default_session()\n",
    "    for offset in range(0, num_examples, BATCH_SIZE):\n",
    "        batch_x, batch_y = X_data[offset:offset+BATCH_SIZE], Y_data[offset:offset+BATCH_SIZE]\n",
    "        accuracy = sess.run(accuracy_operation, feed_dict={x: batch_x, y: batch_y})\n",
    "        total_accuracy += (accuracy * len(batch_x))\n",
    "    return total_accuracy / num_examples\n",
    "\n",
    "with tf.Session() as sess:\n",
    "    sess.run(tf.global_variables_initializer())\n",
    "    num_examples = len(X_train)\n",
    "    \n",
    "    print(\"Training...\")\n",
    "    print()\n",
    "    avg_accuracy=[]\n",
    "    for i in range(EPOCHS):\n",
    "        X_train, Y_train = shuffle(X_train, Y_train)\n",
    "        for offset in range(0, num_examples, BATCH_SIZE):\n",
    "            end = offset + BATCH_SIZE\n",
    "            batch_x, batch_y = X_train[offset:end], Y_train[offset:end]\n",
    "            sess.run(training_operation, feed_dict={x: batch_x, y: batch_y})\n",
    "            \n",
    "        validation_accuracy = evaluate(X_val, Y_val)\n",
    "        print(\"EPOCH {} ...\".format(i+1), \"Accuracy = {:.6f}\".format(validation_accuracy))\n",
    "        if i > EPOCHS*2/3:\n",
    "            rate = 0.00001\n",
    "        \n",
    "    saver.save(sess, 'lenet')\n",
    "    print(\"Model saved\")"
   ]
  },
  {
   "cell_type": "code",
   "execution_count": 17,
   "metadata": {},
   "outputs": [],
   "source": [
    "#=========================================================================================="
   ]
  },
  {
   "cell_type": "code",
   "execution_count": null,
   "metadata": {
    "collapsed": true
   },
   "outputs": [],
   "source": [
    "# Load pickled data\n",
    "import pickle\n",
    "\n",
    "# TODO: Fill this in based on where you saved the training and testing data\n",
    "\n",
    "training_file = 'traffic-signs-data/train.p'\n",
    "testing_file = 'traffic-signs-data/test.p'\n",
    "\n",
    "with open(training_file, mode='rb') as f:\n",
    "    train = pickle.load(f)\n",
    "with open(testing_file, mode='rb') as f:\n",
    "    test = pickle.load(f)\n",
    "    \n",
    "X_train, Y_train = train['features'], train['labels']\n",
    "X_test, Y_test = test['features'], test['labels']\n",
    "\n",
    "print(\"Y_train \", Y_train.shape)\n",
    "print(\"Y_test \", Y_test.shape)\n",
    "import numpy as np\n",
    "test = np.array([1, 2, 3])\n",
    "print(\"test \", test.shape)\n",
    "print(Y_train)"
   ]
  },
  {
   "cell_type": "markdown",
   "metadata": {},
   "source": [
    "---\n",
    "\n",
    "## Step 1: Dataset Summary & Exploration\n",
    "\n",
    "The pickled data is a dictionary with 4 key/value pairs:\n",
    "\n",
    "- `'features'` is a 4D array containing raw pixel data of the traffic sign images, (num examples, width, height, channels).\n",
    "- `'labels'` is a 2D array containing the label/class id of the traffic sign. The file `signnames.csv` contains id -> name mappings for each id.\n",
    "- `'sizes'` is a list containing tuples, (width, height) representing the the original width and height the image.\n",
    "- `'coords'` is a list containing tuples, (x1, y1, x2, y2) representing coordinates of a bounding box around the sign in the image. **THESE COORDINATES ASSUME THE ORIGINAL IMAGE. THE PICKLED DATA CONTAINS RESIZED VERSIONS (32 by 32) OF THESE IMAGES**\n",
    "\n",
    "Complete the basic data summary below."
   ]
  },
  {
   "cell_type": "code",
   "execution_count": null,
   "metadata": {
    "collapsed": true
   },
   "outputs": [],
   "source": [
    "### Replace each question mark with the appropriate value.\n",
    "\n",
    "# TODO: Number of training examples\n",
    "n_train = len(X_train)\n",
    "\n",
    "# TODO: Number of testing examples.\n",
    "n_test = len(X_test)\n",
    "\n",
    "# TODO: What's the shape of an traffic sign image?\n",
    "image_shape = X_train[0].shape\n",
    "\n",
    "# TODO: How many unique classes/labels there are in the dataset.\n",
    "n_classes = len(set(Y_train))\n",
    "\n",
    "print(\"Number of training examples =\", n_train)\n",
    "print(\"Number of testing examples =\", n_test)\n",
    "print(\"Image data shape =\", image_shape)\n",
    "print(\"Number of classes =\", n_classes)"
   ]
  },
  {
   "cell_type": "markdown",
   "metadata": {},
   "source": [
    "Visualize the German Traffic Signs Dataset using the pickled file(s). This is open ended, suggestions include: plotting traffic sign images, plotting the count of each sign, etc.\n",
    "\n",
    "The [Matplotlib](http://matplotlib.org/) [examples](http://matplotlib.org/examples/index.html) and [gallery](http://matplotlib.org/gallery.html) pages are a great resource for doing visualizations in Python.\n",
    "\n",
    "**NOTE:** It's recommended you start with something simple first. If you wish to do more, come back to it after you've completed the rest of the sections."
   ]
  },
  {
   "cell_type": "code",
   "execution_count": null,
   "metadata": {
    "collapsed": true,
    "scrolled": true
   },
   "outputs": [],
   "source": [
    "### Data exploration visualization goes here.\n",
    "### Feel free to use as many code cells as needed.\n",
    "import matplotlib.pyplot as plt\n",
    "# Visualizations will be shown in the notebook.\n",
    "%matplotlib inline\n",
    "\n",
    "import random\n",
    "print('Sample Images')\n",
    "\n",
    "for i in range(9):\n",
    "    plt.subplot(3,3,i+1)\n",
    "    plt.imshow(X_train[random.randint(0, len(X_train))])\n",
    "    "
   ]
  },
  {
   "cell_type": "code",
   "execution_count": null,
   "metadata": {
    "collapsed": true
   },
   "outputs": [],
   "source": [
    "plt.hist(Y_train, bins=n_classes)\n",
    "plt.title('A Plot of the Count of Each Sign')\n",
    "plt.xlabel('Sign')\n",
    "plt.ylabel('Count')\n",
    "plt.plot()"
   ]
  },
  {
   "cell_type": "markdown",
   "metadata": {},
   "source": [
    "----\n",
    "\n",
    "## Step 2: Design and Test a Model Architecture\n",
    "\n",
    "Design and implement a deep learning model that learns to recognize traffic signs. Train and test your model on the [German Traffic Sign Dataset](http://benchmark.ini.rub.de/?section=gtsrb&subsection=dataset).\n",
    "\n",
    "There are various aspects to consider when thinking about this problem:\n",
    "\n",
    "- Neural network architecture\n",
    "- Play around preprocessing techniques (normalization, rgb to grayscale, etc)\n",
    "- Number of examples per label (some have more than others).\n",
    "- Generate fake data.\n",
    "\n",
    "Here is an example of a [published baseline model on this problem](http://yann.lecun.com/exdb/publis/pdf/sermanet-ijcnn-11.pdf). It's not required to be familiar with the approach used in the paper but, it's good practice to try to read papers like these.\n",
    "\n",
    "**NOTE:** The LeNet-5 implementation shown in the [classroom](https://classroom.udacity.com/nanodegrees/nd013/parts/fbf77062-5703-404e-b60c-95b78b2f3f9e/modules/6df7ae49-c61c-4bb2-a23e-6527e69209ec/lessons/601ae704-1035-4287-8b11-e2c2716217ad/concepts/d4aca031-508f-4e0b-b493-e7b706120f81) at the end of the CNN lesson is a solid starting point. You'll have to change the number of classes and possibly the preprocessing, but aside from that it's plug and play!"
   ]
  },
  {
   "cell_type": "markdown",
   "metadata": {},
   "source": [
    "### Implementation\n",
    "\n",
    "Use the code cell (or multiple code cells, if necessary) to implement the first step of your project. Once you have completed your implementation and are satisfied with the results, be sure to thoroughly answer the questions that follow."
   ]
  },
  {
   "cell_type": "code",
   "execution_count": null,
   "metadata": {
    "collapsed": true
   },
   "outputs": [],
   "source": [
    "### Preprocess the data here.\n",
    "### Feel free to use as many code cells as needed.\n",
    "import cv2\n",
    "import numpy as np\n",
    "import random as rnd\n",
    "\n",
    "def plot_images(index):\n",
    "    plt.imshow(X_train[index])\n",
    "    print(\"Image: \", Y_train[index])\n",
    "    \n",
    "# zero center\n",
    "X_train = (X_train - X_train.mean()) #/ (np.max(X_train) - np.min(X_train))\n",
    "X_test = (X_test - X_test.mean())\n",
    "\n",
    "plot_images(0)"
   ]
  },
  {
   "cell_type": "markdown",
   "metadata": {},
   "source": [
    "### Question 1 \n",
    "\n",
    "_Describe how you preprocessed the data. Why did you choose that technique?_"
   ]
  },
  {
   "cell_type": "markdown",
   "metadata": {},
   "source": [
    "**Answer:**\n",
    "\n",
    "I chose to only use **Mean Subtraction:** on the input. As explained under http://cs231n.github.io/neural-networks-2/#reg, this corresponds to center the cloud of data around the origin (geometric interpretation).\n",
    "In order to preserve information, no grayscale imaging is carried out.\n",
    "\n",
    "To confirm this approach I tested alternative/additional approaches like  **Normalization**, what proved to yield no improvement, as anticipated in above mentioned article"
   ]
  },
  {
   "cell_type": "code",
   "execution_count": null,
   "metadata": {
    "collapsed": true
   },
   "outputs": [],
   "source": [
    "### Generate data additional data (OPTIONAL!)\n",
    "### and split the data into training/validation/testing sets here.\n",
    "### Feel free to use as many code cells as needed.\n",
    "\n",
    "X_train_appended=[]\n",
    "Y_train_appended=[]\n",
    "\n",
    "# find the largest number of occurrences of any single traffic sign\n",
    "def determine_largest_count():\n",
    "    num_occurrences=[]\n",
    "    for i in range(len(set(Y_train))):\n",
    "        num_occurrences.append(list(Y_train).count(i))\n",
    "    return np.amax(num_occurrences)\n",
    "\n",
    "def add_images(count):\n",
    "    # rotate images slightly and increase number of training samples\n",
    "    # rows and cols for matrix operation\n",
    "    rows,cols,depth = X_train[0].shape\n",
    "            \n",
    "    for i in range(len(X_train)):\n",
    "        # Add rotated images, enlarge test set\n",
    "        img=X_train[i]\n",
    "        X_train_appended.append(img)\n",
    "        Y_train_appended.append(Y_train[i])\n",
    "        for j in range(count):\n",
    "            X_train_appended.append(cv2.warpAffine(img,cv2.getRotationMatrix2D((cols/2,rows/2), random.randint(0,29)-15 ,1),(cols,rows)))\n",
    "            Y_train_appended.append(Y_train[i])\n",
    "\n",
    "inflation_factor=8\n",
    "add_images(inflation_factor)\n",
    "assert len(X_train_appended)==len(Y_train_appended)\n",
    "\n",
    "from sklearn.model_selection import train_test_split\n",
    "from sklearn.utils import shuffle\n",
    "\n",
    "if (len(X_train_appended) > 0):\n",
    "    X_train=X_train_appended\n",
    "    Y_train=Y_train_appended\n",
    "\n",
    "print(\"New training image set size: \", len(X_train))\n"
   ]
  },
  {
   "cell_type": "code",
   "execution_count": null,
   "metadata": {
    "collapsed": true
   },
   "outputs": [],
   "source": [
    "# split new training set\n",
    "X_train, Y_train = shuffle(X_train, Y_train)\n",
    "X_train, X_val, Y_train, Y_val = train_test_split(X_train, Y_train, test_size=0.1, random_state=0)\n"
   ]
  },
  {
   "cell_type": "markdown",
   "metadata": {},
   "source": [
    "### Question 2\n",
    "\n",
    "_Describe how you set up the training, validation and testing data for your model. **Optional**: If you generated additional data, how did you generate the data? Why did you generate the data? What are the differences in the new dataset (with generated data) from the original dataset?_"
   ]
  },
  {
   "cell_type": "markdown",
   "metadata": {},
   "source": [
    "**Answer:**\n",
    "    *  Data sets are already provided split up into training set and test set; the training set has been shuffled in an attempt to support the training process by presenting data randomly rather than in consecutive ofder\n",
    "    * Training data was separated from validation data 9:1\n",
    "    * Optional: Additional data has been added, what proved very valuable  during testing. I used an approach reading each image, rotating it within a small range of randomly chosen angles and adding this slightly modified image to the training set. This way, the number of available training data was inflated significantly, what should help in overfitting avoidance. During testing, an increase by a factor of 8 yielded  best results\n"
   ]
  },
  {
   "cell_type": "code",
   "execution_count": null,
   "metadata": {
    "collapsed": true
   },
   "outputs": [],
   "source": [
    "### Define your architecture here.\n",
    "### Feel free to use as many code cells as needed.\n",
    "import tensorflow as tf\n",
    "from tensorflow.contrib.layers import flatten\n",
    "\n",
    "def LeNet(x):    \n",
    "    # Hyperparameters\n",
    "    mu = 0\n",
    "    sigma = 0.001\n",
    "    Padding='VALID'\n",
    "    W_lambda = 3.0\n",
    "    \n",
    "    # Layer 1: Convolutional. Input = 32x32x1. Output = 28x28x40.\n",
    "    conv1_W = tf.Variable(tf.truncated_normal(shape=(5, 5, 3, 40), mean = mu, stddev = sigma))\n",
    "    conv1_b = tf.Variable(tf.zeros(40))\n",
    "    conv1   = tf.nn.conv2d(x, conv1_W, strides=[1, 1, 1, 1], padding=Padding) + conv1_b\n",
    "    \n",
    "    # L2 Regularization\n",
    "    conv1_W = -W_lambda*conv1_W\n",
    "    \n",
    "    # Activation.\n",
    "    conv1 = tf.nn.relu(conv1)\n",
    "\n",
    "    # Pooling. Input = 28x28x40. Output = 14x14x40.\n",
    "    conv1 = tf.nn.max_pool(conv1, ksize=[1, 2, 2, 1], strides=[1, 2, 2, 1], padding=Padding)\n",
    "    \n",
    "    # Layer 2: Convolutional. Output = 10x10x16.\n",
    "    conv2_W = tf.Variable(tf.truncated_normal(shape=(5, 5, 40, 16), mean = mu, stddev = sigma))\n",
    "    conv2_b = tf.Variable(tf.zeros(16))\n",
    "    conv2   = tf.nn.conv2d(conv1, conv2_W, strides=[1, 1, 1, 1], padding=Padding) + conv2_b\n",
    "    \n",
    "    # L2 regularization\n",
    "    conv2 = -W_lambda*conv2\n",
    "    \n",
    "    # Activation.\n",
    "    conv2 = tf.nn.relu(conv2)\n",
    "    \n",
    "    # Pooling. Input = 10x10x16. Output = 5x5x16.\n",
    "    conv2 = tf.nn.max_pool(conv2, ksize=[1, 2, 2, 1], strides=[1, 2, 2, 1], padding=Padding)\n",
    "    \n",
    "    # Flatten. Input = 5x5x16. Output = 400.\n",
    "    fc0   = flatten(conv2)\n",
    "    \n",
    "    # Layer 3: Fully Connected. Input = 1024(1024 for SAME vs 400 for VALID padding). Output = 120.\n",
    "    fc1_W = tf.Variable(tf.truncated_normal(shape=(400,120), mean = mu, stddev = sigma))\n",
    "    fc1_b = tf.Variable(tf.zeros(120))\n",
    "    fc1   = tf.matmul(fc0, fc1_W) + fc1_b\n",
    "    \n",
    "    # Activation.\n",
    "    fc1    = tf.nn.relu(fc1)\n",
    "    \n",
    "    # Layer 4: Fully Connected. Input = 120. Output = 84.\n",
    "    fc2_W  = tf.Variable(tf.truncated_normal(shape=(120, 84), mean = mu, stddev = sigma))\n",
    "    fc2_b  = tf.Variable(tf.zeros(84))\n",
    "    fc2    = tf.matmul(fc1, fc2_W) + fc2_b\n",
    "    \n",
    "    # Activation.\n",
    "    fc2    = tf.nn.relu(fc2)\n",
    "    \n",
    "    # Layer 5: Fully Connected. Input = 84. Output = 43.\n",
    "    fc3_W  = tf.Variable(tf.truncated_normal(shape=(84, 43), mean = mu, stddev = sigma))\n",
    "    fc3_b  = tf.Variable(tf.zeros(43))\n",
    "    logits = tf.matmul(fc2, fc3_W) + fc3_b\n",
    "    \n",
    "    return logits\n",
    "    "
   ]
  },
  {
   "cell_type": "markdown",
   "metadata": {},
   "source": [
    "### Question 3\n",
    "\n",
    "_What does your final architecture look like? (Type of model, layers, sizes, connectivity, etc.)  For reference on how to build a deep neural network using TensorFlow, see [Deep Neural Network in TensorFlow\n",
    "](https://classroom.udacity.com/nanodegrees/nd013/parts/fbf77062-5703-404e-b60c-95b78b2f3f9e/modules/6df7ae49-c61c-4bb2-a23e-6527e69209ec/lessons/b516a270-8600-4f93-a0a3-20dfeabe5da6/concepts/83a3a2a2-a9bd-4b7b-95b0-eb924ab14432) from the classroom._\n"
   ]
  },
  {
   "cell_type": "markdown",
   "metadata": {},
   "source": [
    "**Answer:**\n",
    "\n",
    "My model is a slightly modified LeNet-5 CNN with added L2 regularization, an approach that should help in overfitting avoidance:\n",
    "    Layer 1: \n",
    "        * Convolution\n",
    "        * L2 Regularization\n",
    "        * Activation  (ReLU)\n",
    "        * Pooling\n",
    "    Layer 2: \n",
    "        * Convolution\n",
    "        * L2 Regularization\n",
    "        * Activation  (ReLU)\n",
    "        * Pooling\n",
    "        * Flatten\n",
    "    Layer 3:\n",
    "        * Fully Connected\n",
    "        * Activation (ReLU)\n",
    "    Layer 4:\n",
    "        * Fully Connected\n",
    "        * Activiation (ReLU)\n",
    "    Layer 5:\n",
    "        * Fully connected\n",
    "        \n",
    "As mentioned above, the network uses preprocessed data (Mean Subtraction) and 3 color channels"
   ]
  },
  {
   "cell_type": "code",
   "execution_count": null,
   "metadata": {
    "collapsed": true
   },
   "outputs": [],
   "source": [
    "### Train your model here.\n",
    "### Feel free to use as many code cells as needed.\n",
    "\n",
    "x = tf.placeholder(tf.float32, (None, 32, 32, 3))\n",
    "y = tf.placeholder(tf.int32, (None))\n",
    "one_hot_y = tf.one_hot(y, 43)\n",
    "\n",
    "rate = 0.0001\n",
    "\n",
    "logits = LeNet(x)\n",
    "cross_entropy = tf.nn.softmax_cross_entropy_with_logits(logits, one_hot_y)\n",
    "loss_operation = tf.reduce_mean(cross_entropy)\n",
    "optimizer = tf.train.AdamOptimizer(learning_rate = rate)\n",
    "training_operation = optimizer.minimize(loss_operation)\n",
    "\n",
    "correct_prediction = tf.equal(tf.argmax(logits, 1), tf.argmax(one_hot_y, 1))\n",
    "accuracy_operation = tf.reduce_mean(tf.cast(correct_prediction, tf.float32))\n",
    "saver = tf.train.Saver()   \n",
    "\n",
    "EPOCHS = 200\n",
    "BATCH_SIZE = 50\n",
    "\n",
    "def evaluate(X_data, Y_data):\n",
    "    num_examples = len(X_data)\n",
    "    total_accuracy = 0\n",
    "    sess = tf.get_default_session()\n",
    "    for offset in range(0, num_examples, BATCH_SIZE):\n",
    "        batch_x, batch_y = X_data[offset:offset+BATCH_SIZE], Y_data[offset:offset+BATCH_SIZE]\n",
    "        accuracy = sess.run(accuracy_operation, feed_dict={x: batch_x, y: batch_y})\n",
    "        total_accuracy += (accuracy * len(batch_x))\n",
    "    return total_accuracy / num_examples\n",
    "\n",
    "with tf.Session() as sess:\n",
    "    sess.run(tf.global_variables_initializer())\n",
    "    num_examples = len(X_train)\n",
    "    \n",
    "    print(\"Training...\")\n",
    "    print()\n",
    "    avg_accuracy=[]\n",
    "    for i in range(EPOCHS):\n",
    "        X_train, Y_train = shuffle(X_train, Y_train)\n",
    "        for offset in range(0, num_examples, BATCH_SIZE):\n",
    "            end = offset + BATCH_SIZE\n",
    "            batch_x, batch_y = X_train[offset:end], Y_train[offset:end]\n",
    "            sess.run(training_operation, feed_dict={x: batch_x, y: batch_y})\n",
    "            \n",
    "        validation_accuracy = evaluate(X_val, Y_val)\n",
    "        print(\"EPOCH {} ...\".format(i+1), \"Accuracy = {:.6f}\".format(validation_accuracy))\n",
    "        if i > EPOCHS*2/3:\n",
    "            rate = 0.00001\n",
    "        \n",
    "    saver.save(sess, 'lenet')\n",
    "    print(\"Model saved\")"
   ]
  },
  {
   "cell_type": "markdown",
   "metadata": {},
   "source": [
    "### Question 4\n",
    "\n",
    "_How did you train your model? (Type of optimizer, batch size, epochs, hyperparameters, etc.)_\n"
   ]
  },
  {
   "cell_type": "markdown",
   "metadata": {},
   "source": [
    "**Answer:**\n",
    "\n",
    "        Optimizer: Adam\n",
    "        Batch Size: I used various batch sizes; batch sizes from 50 to 80 yielded best results\n",
    "        Training  Epochs: 200\n",
    "        Learning rate: starting 0.001, after 2/3 of epochs reducing to 0.0001\n",
    "        Padding: VALID\n",
    "        mu: 0\n",
    "        sigma: 0.001\n",
    "        lambda (L2): 3.0"
   ]
  },
  {
   "cell_type": "markdown",
   "metadata": {},
   "source": [
    "### Question 5\n",
    "\n",
    "\n",
    "_What approach did you take in coming up with a solution to this problem? It may have been a process of trial and error, in which case, outline the steps you took to get to the final solution and why you chose those steps. Perhaps your solution involved an already well known implementation or architecture. In this case, discuss why you think this is suitable for the current problem._"
   ]
  },
  {
   "cell_type": "markdown",
   "metadata": {},
   "source": [
    "**Answer:**\n",
    "\n",
    "**Step 1**\n",
    "\n",
    "Adopting the LeNet approach as taught in the Course, I first tried to implement a first working version of a CNN. Once this was accomplished, I continued answering the remaining questions, what helped in understanding the overall CNN/LeNet approach and additionally helped in getting used to tensorflow.\n",
    "\n",
    "Once this was completed, I went ahead to inquire which parameters yields what changes to the overall results.\n",
    "In particular, I tinkered with various approaches to adding more training samples, normalization  (what proved surprisingly difficult to get right), number of epochs, learning rate, parameter values (like mu, sigma, et).\n",
    "\n",
    "I came up, finally, with interesting results:\n",
    "\n",
    "    With an accuracy of 999,8** on the validation set, I obtained 0.939 on the test set\n",
    "\n",
    "Now, while this result seems not that bad, there is certainly left room for further improvement. With an almost 100% rate on the validation set, yet a 6%-points lower score on the test set, I assumed an overfitting issue might be present.\n",
    "\n",
    "Now, is a number of mitigation strategies, most notably L2 regularization; which I therefore implemented in addition.\n",
    "\n",
    "**Testing Approach**\n",
    "\n",
    "The overall approach to testing was the following:\n",
    "\n",
    "Once a sufficiently satisfactory result was obtained, I used this result as a benchmark for subsequent paramter changes. The effects of the changes then have been tested using reduced numbers of epochs and addedd images, respectively. This approach helped in significantly reducing time required for testing. Typical values were not to add additional images and number of epochs ranging from 30 to 50.\n",
    "Again, once a score deemed a sufficient improvement, I increased the number of epochs/added images again to confirm the conjectured improvement indeed persists over longer trainig runs.\n",
    "\n",
    "**Test Set Evaluation**"
   ]
  },
  {
   "cell_type": "code",
   "execution_count": null,
   "metadata": {
    "collapsed": true
   },
   "outputs": [],
   "source": [
    "#evaluate test set\n",
    "with tf.Session() as sess:\n",
    "    saver.restore(sess, tf.train.latest_checkpoint('.'))\n",
    "    \n",
    "    #check test set\n",
    "    test_accuracy = evaluate(X_test, Y_test)\n",
    "    print(\"Test Accuracy = {:.3f}\".format(test_accuracy))  "
   ]
  },
  {
   "cell_type": "markdown",
   "metadata": {},
   "source": [
    "---\n",
    "\n",
    "## Step 3: Test a Model on New Images\n",
    "\n",
    "Take several pictures of traffic signs that you find on the web or around you (at least five), and run them through your classifier on your computer to produce example results. The classifier might not recognize some local signs but it could prove interesting nonetheless.\n",
    "\n",
    "You may find `signnames.csv` useful as it contains mappings from the class id (integer) to the actual sign name."
   ]
  },
  {
   "cell_type": "markdown",
   "metadata": {},
   "source": [
    "### Implementation\n",
    "\n",
    "Use the code cell (or multiple code cells, if necessary) to implement the first step of your project. Once you have completed your implementation and are satisfied with the results, be sure to thoroughly answer the questions that follow."
   ]
  },
  {
   "cell_type": "code",
   "execution_count": null,
   "metadata": {
    "collapsed": true
   },
   "outputs": [],
   "source": [
    "### Load the images and plot them here.\n",
    "### Feel free to use as many code cells as needed.\n",
    "import glob, os\n",
    "import matplotlib.image as mpimg\n",
    "\n",
    "# read test images int\n",
    "indir=os.listdir('test_images/')\n",
    "indir.sort()\n",
    "test_images=[]\n",
    "\n",
    "# read custom images and scale to 32 32 3\n",
    "for image_path in indir:\n",
    "    image_path='test_images/'+image_path\n",
    "    image =mpimg.imread(image_path)\n",
    "    # resize to match image set\n",
    "    image=cv2.resize(image, (32, 32), interpolation=cv2.INTER_NEAREST)\n",
    "    test_images.append(image)\n",
    "\n",
    "# display two in a row\n",
    "num_images=len(test_images)\n",
    "half_images=int(num_images/2+5)\n",
    "\n",
    "# preserver original images\n",
    "original_images=list(test_images)\n",
    "\n",
    "for i in range(num_images):\n",
    "    plt.subplot(half_images,2,i+1)\n",
    "    plt.imshow(test_images[i])\n",
    "    "
   ]
  },
  {
   "cell_type": "code",
   "execution_count": null,
   "metadata": {
    "collapsed": true
   },
   "outputs": [],
   "source": [
    "# helper functions\n",
    "sign_names={1: \"Speed Limit (30 km/h)\",\n",
    "            8: \"Speed Limit 1(120 km/h)\",\n",
    "            6: \"End of Speed Limit\", \n",
    "            8: \"Speed Limit 120 km/h\", \n",
    "            11: \"Right of Way at Next Intersection\", \n",
    "            16: \"Vehicles over 3.5 Metric Tons Prohibited\", \n",
    "            17: \"No Entry\",\n",
    "            25: \"Road Work\",\n",
    "            33: \"Turn Right Ahead\",\n",
    "            38: \"Keep Right\",\n",
    "            40: \"Roundabout Mandatory\"}\n",
    "\n",
    "# predict image classification\n",
    "def predict_signs():\n",
    "    num_examples = len(test_images)\n",
    "    total_accuracy = 0\n",
    "    sess = tf.get_default_session()\n",
    "    with tf.Session() as sess:\n",
    "        saver.restore(sess, tf.train.latest_checkpoint('.'))\n",
    "        for offset in range(0, num_examples, BATCH_SIZE):\n",
    "            batch_x, batch_y = test_images[offset:offset+BATCH_SIZE], Y_test_images[offset:offset+BATCH_SIZE]        \n",
    "            prediction=tf.argmax(logits, 1)\n",
    "            retval = sess.run([prediction],feed_dict={x: batch_x, y: batch_y})\n",
    "    return retval\n",
    "\n",
    "# compare if prediction correct\n",
    "def determine_correct():\n",
    "    num_examples = len(test_images)\n",
    "    total_accuracy = 0\n",
    "    sess = tf.get_default_session()\n",
    "    with tf.Session() as sess:\n",
    "        saver.restore(sess, tf.train.latest_checkpoint('.'))\n",
    "        for offset in range(0, num_examples, BATCH_SIZE):\n",
    "            batch_x, batch_y = test_images[offset:offset+BATCH_SIZE], Y_test_images[offset:offset+BATCH_SIZE]\n",
    "            prediction=tf.argmax(logits, 1)\n",
    "            retval = sess.run([correct_prediction],feed_dict={x: batch_x, y: batch_y})\n",
    "    return retval\n",
    "\n",
    "def predict():\n",
    "    num_examples = len(test_images)\n",
    "    total_accuracy = 0\n",
    "    sess = tf.get_default_session()\n",
    "    with tf.Session() as sess:\n",
    "        saver.restore(sess, tf.train.latest_checkpoint('.'))\n",
    "        for offset in range(0, num_examples, BATCH_SIZE):\n",
    "            batch_x, batch_y = test_images[offset:offset+BATCH_SIZE], Y_test_images[offset:offset+BATCH_SIZE]        \n",
    "            prediction=tf.argmax(logits, 1)\n",
    "            probability=tf.nn.softmax(logits)\n",
    "            retval = sess.run([probability],feed_dict={x: batch_x, y: batch_y})\n",
    "    return retval\n",
    "        \n",
    "def visualize_prediction(index):\n",
    "    sess = tf.get_default_session()\n",
    "    with tf.Session() as sess:\n",
    "        saver.restore(sess, tf.train.latest_checkpoint('.'))\n",
    "        probabilities = predict()\n",
    "        print(\"Probabilities for image no: \", index, \"\\n\")\n",
    "        print(probabilities[0][index], \"\\n\")\n",
    "    \n",
    "        print(\"TopKV2: \")\n",
    "        print(sess.run(tf.nn.top_k(tf.constant(probabilities[0][index]), k=3)), \"\\n\")\n",
    "        plt.imshow(test_images[index])\n",
    "        \n",
    "def print_prediction_for_image_no(index):\n",
    "    print(\"Prediction: \", p[0][index], \", \", sign_names[p[0][index]], \" correct? \", b[0][index], \"\")\n",
    "    plt.imshow(original_images[index])"
   ]
  },
  {
   "cell_type": "markdown",
   "metadata": {},
   "source": [
    "### Question 6\n",
    "\n",
    "_Choose five candidate images of traffic signs and provide them in the report. Are there any particular qualities of the image(s) that might make classification difficult? It could be helpful to plot the images in the notebook._\n",
    "\n"
   ]
  },
  {
   "cell_type": "markdown",
   "metadata": {},
   "source": [
    "**Answer:**\n",
    "\n",
    "Living in Nuremberg, Germany I photographed  a number of photos I used for classification. One photo in particular appears rather distorted since taken from aside.I found it intersting to see if the image will be classified correctly"
   ]
  },
  {
   "cell_type": "code",
   "execution_count": null,
   "metadata": {
    "collapsed": true
   },
   "outputs": [],
   "source": [
    "plt.imshow(original_images[0])"
   ]
  },
  {
   "cell_type": "markdown",
   "metadata": {},
   "source": [
    "Also, since taken at night, it appears blurry and overall image quality is poor.\n",
    "\n",
    "\n",
    "The \"No Entry\" sign below is partly occluded with stickers, what may also get in the way of the classifier"
   ]
  },
  {
   "cell_type": "code",
   "execution_count": null,
   "metadata": {
    "collapsed": true
   },
   "outputs": [],
   "source": [
    "plt.imshow(original_images[5])"
   ]
  },
  {
   "cell_type": "code",
   "execution_count": null,
   "metadata": {
    "collapsed": true
   },
   "outputs": [],
   "source": [
    "### Run the predictions here.\n",
    "### Feel free to use as many code cells as needed.\n",
    "\n",
    "import tensorflow as tf\n",
    "\n",
    "#read Y_test_images:\n",
    "#read test_image labels\n",
    "fname='Y_test_images.txt'\n",
    "with open(fname) as f:    \n",
    "    content = f.readlines()\n",
    "    content = [x.strip() for x in content] \n",
    "    \n",
    "# create 2D array and assign labels\n",
    "Y_test_images=np.empty((num_images, ), dtype=np.uint8)\n",
    "for i in range(num_images):\n",
    "    Y_test_images[i,]=content[i]\n",
    "    \n",
    "#check the number of test images matches the respective labels\n",
    "assert len(Y_test_images)==num_images\n",
    "\n",
    "#zero center test images\n",
    "test_images = (test_images - np.mean(test_images))\n",
    "\n",
    "p = predict_signs()\n",
    "b = determine_correct()\n",
    "assert len(p)==len(b)"
   ]
  },
  {
   "cell_type": "code",
   "execution_count": null,
   "metadata": {
    "collapsed": true
   },
   "outputs": [],
   "source": [
    "print_prediction_for_image_no(0)"
   ]
  },
  {
   "cell_type": "code",
   "execution_count": null,
   "metadata": {
    "collapsed": true
   },
   "outputs": [],
   "source": [
    "print_prediction_for_image_no(1)"
   ]
  },
  {
   "cell_type": "code",
   "execution_count": null,
   "metadata": {
    "collapsed": true
   },
   "outputs": [],
   "source": [
    "print_prediction_for_image_no(2)"
   ]
  },
  {
   "cell_type": "code",
   "execution_count": null,
   "metadata": {
    "collapsed": true
   },
   "outputs": [],
   "source": [
    "print_prediction_for_image_no(3)"
   ]
  },
  {
   "cell_type": "code",
   "execution_count": null,
   "metadata": {
    "collapsed": true
   },
   "outputs": [],
   "source": [
    "print_prediction_for_image_no(4)"
   ]
  },
  {
   "cell_type": "code",
   "execution_count": null,
   "metadata": {
    "collapsed": true
   },
   "outputs": [],
   "source": [
    "print_prediction_for_image_no(5)"
   ]
  },
  {
   "cell_type": "code",
   "execution_count": null,
   "metadata": {
    "collapsed": true
   },
   "outputs": [],
   "source": [
    "print_prediction_for_image_no(6)"
   ]
  },
  {
   "cell_type": "code",
   "execution_count": null,
   "metadata": {
    "collapsed": true
   },
   "outputs": [],
   "source": [
    "print_prediction_for_image_no(7)"
   ]
  },
  {
   "cell_type": "code",
   "execution_count": null,
   "metadata": {
    "collapsed": true
   },
   "outputs": [],
   "source": [
    "print_prediction_for_image_no(8)"
   ]
  },
  {
   "cell_type": "code",
   "execution_count": null,
   "metadata": {
    "collapsed": true
   },
   "outputs": [],
   "source": [
    "print_prediction_for_image_no(9)"
   ]
  },
  {
   "cell_type": "markdown",
   "metadata": {},
   "source": [
    "Even though prediction is wrong, the algorithm seems to have correctly identified the **arrow to the right**. \n",
    "Very interesting"
   ]
  },
  {
   "cell_type": "markdown",
   "metadata": {},
   "source": [
    "### Question 7\n",
    "\n",
    "_Is your model able to perform equally well on captured pictures when compared to testing on the dataset? The simplest way to do this check the accuracy of the predictions. For example, if the model predicted 1 out of 5 signs correctly, it's 20% accurate._\n",
    "\n",
    "_**NOTE:** You could check the accuracy manually by using `signnames.csv` (same directory). This file has a mapping from the class id (0-42) to the corresponding sign name. So, you could take the class id the model outputs, lookup the name in `signnames.csv` and see if it matches the sign from the image._\n"
   ]
  },
  {
   "cell_type": "markdown",
   "metadata": {},
   "source": [
    "**Answer:**\n",
    "\n",
    "The algorithm seems to do well. That said, the overall classification rate seems to be slightly below the scores obtained using the test dataset. (0.959 vs 0.9*).\n",
    "\n",
    "To find out more, a much larger dataset should be used to confirm the results using custom photos - after all, the custom test uses just 10 images."
   ]
  },
  {
   "cell_type": "code",
   "execution_count": null,
   "metadata": {
    "collapsed": true
   },
   "outputs": [],
   "source": [
    "#evaluate test set\n",
    "with tf.Session() as sess:\n",
    "    saver.restore(sess, tf.train.latest_checkpoint('.'))\n",
    "    \n",
    "    #check custom test set\n",
    "    test_accuracy = evaluate(test_images, Y_test_images)\n",
    "    print(\"Custom Signs Accuracy = {:.3f}\".format(test_accuracy))\n",
    "\n",
    "print(\"\")   \n",
    "print(\"Predictions vs Labels\") \n",
    "print(\"\")\n",
    "print (Y_test_images)\n",
    "print(predict_signs()[0])"
   ]
  },
  {
   "cell_type": "markdown",
   "metadata": {},
   "source": [
    "As the values above indicate, only one out of 10 images has been classified wrongly."
   ]
  },
  {
   "cell_type": "markdown",
   "metadata": {},
   "source": [
    "### Question 8\n",
    "\n",
    "*Use the model's softmax probabilities to visualize the **certainty** of its predictions, [`tf.nn.top_k`](https://www.tensorflow.org/versions/r0.12/api_docs/python/nn.html#top_k) could prove helpful here. Which predictions is the model certain of? Uncertain? If the model was incorrect in its initial prediction, does the correct prediction appear in the top k? (k should be 5 at most)*\n",
    "\n",
    "`tf.nn.top_k` will return the values and indices (class ids) of the top k predictions. So if k=3, for each sign, it'll return the 3 largest probabilities (out of a possible 43) and the correspoding class ids.\n",
    "\n",
    "Take this numpy array as an example:\n",
    "\n",
    "```\n",
    "# (5, 6) array\n",
    "a = np.array([[ 0.24879643,  0.07032244,  0.12641572,  0.34763842,  0.07893497,\n",
    "         0.12789202],\n",
    "       [ 0.28086119,  0.27569815,  0.08594638,  0.0178669 ,  0.18063401,\n",
    "         0.15899337],\n",
    "       [ 0.26076848,  0.23664738,  0.08020603,  0.07001922,  0.1134371 ,\n",
    "         0.23892179],\n",
    "       [ 0.11943333,  0.29198961,  0.02605103,  0.26234032,  0.1351348 ,\n",
    "         0.16505091],\n",
    "       [ 0.09561176,  0.34396535,  0.0643941 ,  0.16240774,  0.24206137,\n",
    "         0.09155967]])\n",
    "```\n",
    "\n",
    "Running it through `sess.run(tf.nn.top_k(tf.constant(a), k=3))` produces:\n",
    "\n",
    "```\n",
    "TopKV2(values=array([[ 0.34763842,  0.24879643,  0.12789202],\n",
    "       [ 0.28086119,  0.27569815,  0.18063401],\n",
    "       [ 0.26076848,  0.23892179,  0.23664738],\n",
    "       [ 0.29198961,  0.26234032,  0.16505091],\n",
    "       [ 0.34396535,  0.24206137,  0.16240774]]), indices=array([[3, 0, 5],\n",
    "       [0, 1, 4],\n",
    "       [0, 5, 1],\n",
    "       [1, 3, 5],\n",
    "       [1, 4, 3]], dtype=int32))\n",
    "```\n",
    "\n",
    "Looking just at the first row we get `[ 0.34763842,  0.24879643,  0.12789202]`, you can confirm these are the 3 largest probabilities in `a`. You'll also notice `[3, 0, 5]` are the corresponding indices."
   ]
  },
  {
   "cell_type": "markdown",
   "metadata": {
    "collapsed": true
   },
   "source": [
    "**Answer:**\n",
    "    \n",
    "See discussions of images below."
   ]
  },
  {
   "cell_type": "markdown",
   "metadata": {},
   "source": [
    "**Image 0: Index no 1 is close to one, so the model seems pretty sure in this case**"
   ]
  },
  {
   "cell_type": "code",
   "execution_count": null,
   "metadata": {
    "collapsed": true,
    "scrolled": true
   },
   "outputs": [],
   "source": [
    "### Visualize the softmax probabilities here.\n",
    "### Feel free to use as many code cells as needed.\n",
    "\n",
    "image_number=0\n",
    "probabilities = visualize_prediction(image_number)"
   ]
  },
  {
   "cell_type": "markdown",
   "metadata": {},
   "source": [
    "**Image 1: Again, the modes is very certain about its choice**"
   ]
  },
  {
   "cell_type": "code",
   "execution_count": null,
   "metadata": {
    "collapsed": true
   },
   "outputs": [],
   "source": [
    "image_number=1\n",
    "probabilities = visualize_prediction(image_number)==len(b)    "
   ]
  },
  {
   "cell_type": "markdown",
   "metadata": {},
   "source": [
    "**Image 2: Again, the model is 100% certain (which should be suspicious)**"
   ]
  },
  {
   "cell_type": "code",
   "execution_count": null,
   "metadata": {
    "collapsed": true
   },
   "outputs": [],
   "source": [
    "image_number=2\n",
    "probabilities = visualize_prediction(image_number)==len(b)"
   ]
  },
  {
   "cell_type": "markdown",
   "metadata": {},
   "source": [
    "**Image 4: Once again, the modes is very certain about its choice. **\n",
    "\n",
    "Apparently, the stickers did not influence the model in a negative way"
   ]
  },
  {
   "cell_type": "code",
   "execution_count": null,
   "metadata": {
    "collapsed": true
   },
   "outputs": [],
   "source": [
    "image_number=4\n",
    "probabilities = visualize_prediction(image_number)==len(b)"
   ]
  },
  {
   "cell_type": "markdown",
   "metadata": {},
   "source": [
    "**Image 5: Once again, the mode is rather certain about its choice**:"
   ]
  },
  {
   "cell_type": "code",
   "execution_count": null,
   "metadata": {
    "collapsed": true
   },
   "outputs": [],
   "source": [
    "image_number=5\n",
    "probabilities = visualize_prediction(image_number)==len(b)"
   ]
  },
  {
   "cell_type": "markdown",
   "metadata": {},
   "source": [
    "(...)\n",
    "\n",
    "The picture is similar for the remainder of the captured images.\n",
    "\n",
    "Except for one:\n",
    "\n",
    "**Image 4: The classifier is very certain about its choice. However, it is wrong**\n",
    "\n",
    "The correct answer, however, is listed as second most likely choice identified, albeit there is a huge margin in probability."
   ]
  },
  {
   "cell_type": "code",
   "execution_count": null,
   "metadata": {
    "collapsed": true
   },
   "outputs": [],
   "source": [
    "image_number=3\n",
    "probabilities = visualize_prediction(image_number)==len(b)"
   ]
  },
  {
   "cell_type": "markdown",
   "metadata": {},
   "source": [
    "> **Note**: Once you have completed all of the code implementations and successfully answered each question above, you may finalize your work by exporting the iPython Notebook as an HTML document. You can do this by using the menu above and navigating to  \\n\",\n",
    "    \"**File -> Download as -> HTML (.html)**. Include the finished document along with this notebook as your submission."
   ]
  }
 ],
 "metadata": {
  "anaconda-cloud": {},
  "celltoolbar": "Raw Cell Format",
  "kernelspec": {
   "display_name": "Python 3",
   "language": "python",
   "name": "python3"
  },
  "language_info": {
   "codemirror_mode": {
    "name": "ipython",
    "version": 3
   },
   "file_extension": ".py",
   "mimetype": "text/x-python",
   "name": "python",
   "nbconvert_exporter": "python",
   "pygments_lexer": "ipython3",
   "version": "3.5.3"
  }
 },
 "nbformat": 4,
 "nbformat_minor": 1
}
