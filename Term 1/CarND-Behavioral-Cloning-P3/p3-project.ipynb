{
 "cells": [
  {
   "cell_type": "code",
   "execution_count": null,
   "metadata": {
    "collapsed": false
   },
   "outputs": [],
   "source": [
    "import csv, cv2\n",
    "import numpy as np\n",
    "import matplotlib.image as mpimg\n",
    "\n",
    "from keras.preprocessing.image import ImageDataGenerator\n",
    "from keras.models import Sequential\n",
    "from keras.layers import Dense, Dropout, Flatten, Lambda, Activation, ELU\n",
    "from keras.layers.convolutional import Convolution2D\n",
    "from keras.optimizers import SGD, Adam, RMSprop\n",
    "\n",
    "from sklearn.model_selection import train_test_split\n",
    "\n",
    "channels, row, col = 3, 160, 320  # camera format\n",
    "\n",
    "# Import data\n",
    "#driving_csv = pd.read_csv(\"driving_data/driving_log.csv\")\n",
    "#driving_csv = pd.read_csv(\"data/driving_log.csv\")\n",
    "\n",
    "lines = []\n",
    "with open(\"./driving_data/driving_log.csv\") as csvfile:\n",
    "    reader = csv.reader(csvfile)\n",
    "    for line in reader:\n",
    "        lines.append(line)\n",
    "\n",
    "images = []\n",
    "measurements = []\n",
    "for line in lines:\n",
    "    source_path = line[0]\n",
    "    tokens = source_path.split('/')\n",
    "    filename = tokens[-1]\n",
    "    localpath = \"./driving_data/IMG/\" + filename\n",
    "    image = cv2.imread(localpath)\n",
    "    images.append(image)\n",
    "    measurement = line[3]\n",
    "    measurements.append(measurement)\n",
    "\n",
    "assert len(images) == len(measurements)\n",
    "\n",
    "X_train = np.array(images)\n",
    "Y_train = np.array(measurements)\n",
    " \n",
    "def get_udacity_model():\n",
    "    \n",
    "    model = Sequential()\n",
    "    model.add(Flatten(input_shape=(row, col, channels)))\n",
    "    model.add(Dense(1))\n",
    "\n",
    "    model.compile(loss='mean_squared_error', optimizer='adam')   \n",
    "    \n",
    "    return model\n",
    "    \n",
    "\n",
    "model = get_udacity_model()\n",
    "model.fit(X_train, Y_train, validation_split=0.2, shuffle=True)\n",
    "model.save('model.h5')"
   ]
  }
 ],
 "metadata": {
  "anaconda-cloud": {},
  "hide_input": false,
  "kernelspec": {
   "display_name": "Python [default]",
   "language": "python",
   "name": "python3"
  },
  "language_info": {
   "codemirror_mode": {
    "name": "ipython",
    "version": 3
   },
   "file_extension": ".py",
   "mimetype": "text/x-python",
   "name": "python",
   "nbconvert_exporter": "python",
   "pygments_lexer": "ipython3",
   "version": "3.5.2"
  }
 },
 "nbformat": 4,
 "nbformat_minor": 1
}
